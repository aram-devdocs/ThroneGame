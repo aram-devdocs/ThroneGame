{
 "cells": [
  {
   "cell_type": "code",
   "execution_count": 1,
   "metadata": {},
   "outputs": [
    {
     "name": "stdout",
     "output_type": "stream",
     "text": [
      "Collecting astroid\n",
      "  Downloading astroid-3.2.2-py3-none-any.whl.metadata (4.5 kB)\n",
      "Requirement already satisfied: graphviz in /Users/aramhammoudeh/Library/Python/3.10/lib/python/site-packages (0.20.1)\n",
      "Requirement already satisfied: typing-extensions>=4.0.0 in /Users/aramhammoudeh/Library/Python/3.10/lib/python/site-packages (from astroid) (4.11.0)\n",
      "Downloading astroid-3.2.2-py3-none-any.whl (276 kB)\n",
      "\u001b[2K   \u001b[38;2;114;156;31m━━━━━━━━━━━━━━━━━━━━━━━━━━━━━━━━━━━━━━━━\u001b[0m \u001b[32m276.3/276.3 kB\u001b[0m \u001b[31m4.6 MB/s\u001b[0m eta \u001b[36m0:00:00\u001b[0m MB/s\u001b[0m eta \u001b[36m0:00:01\u001b[0m\n",
      "\u001b[?25hInstalling collected packages: astroid\n",
      "Successfully installed astroid-3.2.2\n",
      "Note: you may need to restart the kernel to use updated packages.\n"
     ]
    }
   ],
   "source": [
    "%pip install astroid graphviz"
   ]
  },
  {
   "cell_type": "code",
   "execution_count": 3,
   "metadata": {},
   "outputs": [],
   "source": [
    "# import os\n",
    "# import astroid\n",
    "# from graphviz import Digraph\n",
    "\n",
    "# def get_imports(file_path):\n",
    "#     with open(file_path, 'r') as file:\n",
    "#         node = astroid.parse(file.read(), file_path)\n",
    "#     imports = set()\n",
    "#     for imp in node.nodes_of_class(astroid.Import):\n",
    "#         for name, _ in imp.names:\n",
    "#             imports.add(name.split('.')[0])\n",
    "#     for imp in node.nodes_of_class(astroid.ImportFrom):\n",
    "#         imports.add(imp.modname.split('.')[0])\n",
    "#     return imports\n",
    "\n",
    "# def generate_dependency_map(project_dir):\n",
    "#     graph = Digraph(comment='Dependency Map')\n",
    "#     files = [os.path.join(root, f) for root, _, files in os.walk(project_dir) for f in files if f.endswith('.cs')]\n",
    "\n",
    "#     for file in files:\n",
    "#         file_name = os.path.basename(file)\n",
    "#         graph.node(file_name)\n",
    "#         imports = get_imports(file)\n",
    "#         for imp in imports:\n",
    "#             if imp + '.cs' in files:\n",
    "#                 graph.edge(file_name, imp + '.cs')\n",
    "\n",
    "#     graph.render('dependency_map', format='png', view=True)\n",
    "\n",
    "# if __name__ == '__main__':\n",
    "#     project_dir = '../*'  # Replace with your project's path\n",
    "#     generate_dependency_map(project_dir)"
   ]
  }
 ],
 "metadata": {
  "kernelspec": {
   "display_name": "Python 3",
   "language": "python",
   "name": "python3"
  },
  "language_info": {
   "codemirror_mode": {
    "name": "ipython",
    "version": 3
   },
   "file_extension": ".py",
   "mimetype": "text/x-python",
   "name": "python",
   "nbconvert_exporter": "python",
   "pygments_lexer": "ipython3",
   "version": "3.10.14"
  }
 },
 "nbformat": 4,
 "nbformat_minor": 2
}
