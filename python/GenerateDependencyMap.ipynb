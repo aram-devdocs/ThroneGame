{
 "cells": [
  {
   "cell_type": "code",
   "execution_count": 1,
   "metadata": {},
   "outputs": [
    {
     "name": "stdout",
     "output_type": "stream",
     "text": [
      "Requirement already satisfied: astroid in /opt/homebrew/lib/python3.10/site-packages (3.2.2)\n",
      "Requirement already satisfied: graphviz in /Users/aramhammoudeh/Library/Python/3.10/lib/python/site-packages (0.20.1)\n",
      "Requirement already satisfied: typing-extensions>=4.0.0 in /Users/aramhammoudeh/Library/Python/3.10/lib/python/site-packages (from astroid) (4.11.0)\n",
      "Note: you may need to restart the kernel to use updated packages.\n"
     ]
    }
   ],
   "source": [
    "%pip install astroid graphviz"
   ]
  },
  {
   "cell_type": "code",
   "execution_count": 1,
   "metadata": {},
   "outputs": [],
   "source": [
    "import os\n",
    "import re\n",
    "import graphviz\n",
    "from dependency_map import scan_directory, generate_dot_file, map_first_party_dependencies\n",
    "\n",
    "IGNORE_DIRS = ['_Tiled', '.config', '.bin', 'Content', 'python', 'obj']\n"
   ]
  },
  {
   "cell_type": "code",
   "execution_count": 2,
   "metadata": {},
   "outputs": [
    {
     "name": "stdout",
     "output_type": "stream",
     "text": [
      "First-party dependency graph saved to output/dependencies.dot\n"
     ]
    }
   ],
   "source": [
    "project_root = os.path.abspath(os.path.join(os.getcwd(), \"../..\"))\n",
    "dependencies = scan_directory(project_root, IGNORE_DIRS)\n",
    "\n",
    "first_party_deps = map_first_party_dependencies(dependencies)\n",
    "\n",
    "output_file = 'output/dependencies.dot'\n",
    "generate_dot_file(first_party_deps, output_file)\n",
    "print(f\"First-party dependency graph saved to {output_file}\")"
   ]
  },
  {
   "cell_type": "code",
   "execution_count": 3,
   "metadata": {},
   "outputs": [
    {
     "data": {
      "text/plain": [
       "'output/dependencies.png'"
      ]
     },
     "execution_count": 3,
     "metadata": {},
     "output_type": "execute_result"
    }
   ],
   "source": [
    "import graphviz\n",
    "\n",
    "with open('output/dependencies.dot') as f:\n",
    "    dot_graph = f.read()\n",
    "\n",
    "graph = graphviz.Source(dot_graph)\n",
    "graph.render('output/dependencies', format='png')"
   ]
  }
 ],
 "metadata": {
  "kernelspec": {
   "display_name": "Python 3",
   "language": "python",
   "name": "python3"
  },
  "language_info": {
   "codemirror_mode": {
    "name": "ipython",
    "version": 3
   },
   "file_extension": ".py",
   "mimetype": "text/x-python",
   "name": "python",
   "nbconvert_exporter": "python",
   "pygments_lexer": "ipython3",
   "version": "3.10.14"
  }
 },
 "nbformat": 4,
 "nbformat_minor": 2
}
