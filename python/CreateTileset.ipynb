{
 "cells": [
  {
   "cell_type": "code",
   "execution_count": 1,
   "metadata": {},
   "outputs": [
    {
     "name": "stdout",
     "output_type": "stream",
     "text": [
      "Requirement already satisfied: pillow in /Users/aramhammoudeh/Library/Python/3.10/lib/python/site-packages (10.3.0)\n",
      "Note: you may need to restart the kernel to use updated packages.\n"
     ]
    }
   ],
   "source": [
    "%pip install pillow"
   ]
  },
  {
   "cell_type": "code",
   "execution_count": 15,
   "metadata": {},
   "outputs": [
    {
     "name": "stdout",
     "output_type": "stream",
     "text": [
      "Attempt 1: Trying tileset size: 237x237\n",
      "Attempt 2: Trying tileset size: 429x429\n",
      "Tileset saved as output/home_tileset_compact.png\n"
     ]
    }
   ],
   "source": [
    "import os\n",
    "from PIL import Image\n",
    "\n",
    "\n",
    "def create_compact_tileset(directory, output_file):\n",
    "    # Get a list of all PNG files in the directory\n",
    "    files = [f for f in os.listdir(directory) if f.endswith('.png')]\n",
    "    if not files:\n",
    "        print(\"No PNG files found in the directory.\")\n",
    "        return\n",
    "\n",
    "    # Open all images and sort them by area (width * height)\n",
    "    images = [Image.open(os.path.join(directory, f)) for f in files]\n",
    "    images.sort(key=lambda img: img.width * img.height, reverse=True)\n",
    "\n",
    "    # Function to place images in the tileset\n",
    "    def try_to_place_images(tileset_width, tileset_height):\n",
    "        tileset = Image.new(\n",
    "            'RGBA', (tileset_width, tileset_height), (0, 0, 0, 0))\n",
    "        x, y, row_height = 0, 0, 0\n",
    "        for img in images:\n",
    "            if x + img.width > tileset.width:\n",
    "                x = 0\n",
    "                y += row_height\n",
    "                row_height = 0\n",
    "            if y + img.height > tileset.height:\n",
    "                return None\n",
    "            tileset.paste(img, (x, y))\n",
    "            x += img.width\n",
    "            row_height = max(row_height, img.height)\n",
    "        return tileset.crop(tileset.getbbox())\n",
    "\n",
    "    # Start with an estimated size and increase if needed\n",
    "    total_area = sum(img.width * img.height for img in images)\n",
    "    tileset_side = int((total_area ** 0.5) + 0.5)\n",
    "    max_attempts = 100\n",
    "    attempt = 0\n",
    "    increment_size = max(max(img.width for img in images),\n",
    "                         max(img.height for img in images))\n",
    "    tileset = None\n",
    "\n",
    "    while tileset is None and attempt < max_attempts:\n",
    "        print(\n",
    "            f\"Attempt {attempt + 1}: Trying tileset size: {tileset_side}x{tileset_side}\")\n",
    "        tileset = try_to_place_images(tileset_side, tileset_side)\n",
    "        if tileset is None:\n",
    "            tileset_side += increment_size\n",
    "        attempt += 1\n",
    "\n",
    "    if tileset is None:\n",
    "        raise ValueError(\n",
    "            \"Failed to create a compact tileset with the given images after maximum attempts.\")\n",
    "\n",
    "    # Save the tileset to a file\n",
    "    tileset.save(output_file)\n",
    "    print(f\"Tileset saved as {output_file}\")\n",
    "\n",
    "\n",
    "# Example usage\n",
    "directory = \"/Users/aramhammoudeh/Documents/ThroneGameAssets/ThroneGame_HomePngs\"\n",
    "output_file = \"output/home_tileset_compact.png\"\n",
    "\n",
    "create_compact_tileset(directory, output_file)"
   ]
  }
 ],
 "metadata": {
  "kernelspec": {
   "display_name": "Python 3",
   "language": "python",
   "name": "python3"
  },
  "language_info": {
   "codemirror_mode": {
    "name": "ipython",
    "version": 3
   },
   "file_extension": ".py",
   "mimetype": "text/x-python",
   "name": "python",
   "nbconvert_exporter": "python",
   "pygments_lexer": "ipython3",
   "version": "3.10.14"
  }
 },
 "nbformat": 4,
 "nbformat_minor": 2
}
